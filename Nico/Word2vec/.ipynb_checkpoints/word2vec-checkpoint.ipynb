{
 "cells": [
  {
   "cell_type": "markdown",
   "metadata": {},
   "source": [
    "# Training word2vec"
   ]
  },
  {
   "cell_type": "markdown",
   "metadata": {},
   "source": [
    "First we load text data"
   ]
  },
  {
   "cell_type": "code",
   "execution_count": 25,
   "metadata": {
    "collapsed": false
   },
   "outputs": [],
   "source": [
    "import os.path\n",
    "\n",
    "import gensim, logging\n",
    "\n",
    "logging.basicConfig(format='%(asctime)s : %(levelname)s : %(message)s', level=logging.INFO)\n",
    "\n",
    "folder = '/Users/piromast/Dropbox/S2DS - M&S/Data/'\n",
    "agentFileName = os.path.join(folder, 'agentMessages.txt')\n",
    "clientFileName = os.path.join(folder, 'clientMessages.txt')\n",
    "\n"
   ]
  },
  {
   "cell_type": "markdown",
   "metadata": {},
   "source": [
    "Create generator class to load data line by line"
   ]
  },
  {
   "cell_type": "code",
   "execution_count": 32,
   "metadata": {
    "collapsed": true
   },
   "outputs": [],
   "source": [
    "class SentencesGenerator(object):\n",
    "    def __init__(self, filename):\n",
    "        self.filename = filename\n",
    " \n",
    "    def __iter__(self):\n",
    "        for line in open(self.filename):\n",
    "            yield [line.split()]"
   ]
  },
  {
   "cell_type": "markdown",
   "metadata": {},
   "source": [
    "Create iterator object for agent and client files"
   ]
  },
  {
   "cell_type": "code",
   "execution_count": 33,
   "metadata": {
    "collapsed": false
   },
   "outputs": [],
   "source": [
    "clientSentencesGenerator = SentencesGenerator(clientFileName)\n",
    "agentSentencesGenerator = SentencesGenerator(agentFileName)"
   ]
  },
  {
   "cell_type": "markdown",
   "metadata": {},
   "source": [
    "Load model"
   ]
  },
  {
   "cell_type": "raw",
   "metadata": {},
   "source": [
    "model = gensim.models.Word2Vec(clientSentencesGenerator, size=100, window=5, min_count=5, workers=4)"
   ]
  },
  {
   "cell_type": "markdown",
   "metadata": {},
   "source": [
    "Train model and save"
   ]
  },
  {
   "cell_type": "code",
   "execution_count": 38,
   "metadata": {
    "collapsed": false
   },
   "outputs": [
    {
     "ename": "NameError",
     "evalue": "name 'model' is not defined",
     "output_type": "error",
     "traceback": [
      "\u001b[0;31m---------------------------------------------------------------------------\u001b[0m",
      "\u001b[0;31mNameError\u001b[0m                                 Traceback (most recent call last)",
      "\u001b[0;32m<ipython-input-38-0379232c5f43>\u001b[0m in \u001b[0;36m<module>\u001b[0;34m()\u001b[0m\n\u001b[0;32m----> 1\u001b[0;31m \u001b[0mmodel\u001b[0m\u001b[0;34m.\u001b[0m\u001b[0mtrain\u001b[0m\u001b[0;34m(\u001b[0m\u001b[0mclientSentencesGenerator\u001b[0m\u001b[0;34m)\u001b[0m\u001b[0;34m\u001b[0m\u001b[0m\n\u001b[0m\u001b[1;32m      2\u001b[0m \u001b[0mmodel\u001b[0m\u001b[0;34m.\u001b[0m\u001b[0msave\u001b[0m\u001b[0;34m(\u001b[0m\u001b[0mos\u001b[0m\u001b[0;34m.\u001b[0m\u001b[0mpath\u001b[0m\u001b[0;34m.\u001b[0m\u001b[0mjoin\u001b[0m\u001b[0;34m(\u001b[0m\u001b[0mfolder\u001b[0m\u001b[0;34m,\u001b[0m\u001b[0;34m'clientW2V_Model'\u001b[0m\u001b[0;34m)\u001b[0m\u001b[0;34m)\u001b[0m\u001b[0;34m\u001b[0m\u001b[0m\n",
      "\u001b[0;31mNameError\u001b[0m: name 'model' is not defined"
     ]
    }
   ],
   "source": [
    "model.train(clientSentencesGenerator)\n",
    "model.save(os.path.join(folder,'clientW2V_Model'))"
   ]
  },
  {
   "cell_type": "code",
   "execution_count": 23,
   "metadata": {
    "collapsed": false
   },
   "outputs": [
    {
     "ename": "NameError",
     "evalue": "name 'model' is not defined",
     "output_type": "error",
     "traceback": [
      "\u001b[0;31m---------------------------------------------------------------------------\u001b[0m",
      "\u001b[0;31mNameError\u001b[0m                                 Traceback (most recent call last)",
      "\u001b[0;32m<ipython-input-23-458d5f1afc81>\u001b[0m in \u001b[0;36m<module>\u001b[0;34m()\u001b[0m\n\u001b[0;32m----> 1\u001b[0;31m \u001b[0mmodel\u001b[0m\u001b[0;34m\u001b[0m\u001b[0m\n\u001b[0m",
      "\u001b[0;31mNameError\u001b[0m: name 'model' is not defined"
     ]
    }
   ],
   "source": [
    "model"
   ]
  },
  {
   "cell_type": "code",
   "execution_count": 24,
   "metadata": {
    "collapsed": false
   },
   "outputs": [
    {
     "data": {
      "text/plain": [
       "<__main__.SentencesGenerator at 0x10f9ebcc0>"
      ]
     },
     "execution_count": 24,
     "metadata": {},
     "output_type": "execute_result"
    }
   ],
   "source": [
    "clientSentencesGenerator"
   ]
  },
  {
   "cell_type": "code",
   "execution_count": 26,
   "metadata": {
    "collapsed": false
   },
   "outputs": [
    {
     "data": {
      "text/plain": [
       "gensim.models.word2vec.Word2Vec"
      ]
     },
     "execution_count": 26,
     "metadata": {},
     "output_type": "execute_result"
    }
   ],
   "source": [
    "gensim.models.Word2Vec"
   ]
  },
  {
   "cell_type": "code",
   "execution_count": 34,
   "metadata": {
    "collapsed": true
   },
   "outputs": [],
   "source": [
    "import itertools\n",
    "top5 = itertools.islice(clientSentencesGenerator, 5)"
   ]
  },
  {
   "cell_type": "code",
   "execution_count": 29,
   "metadata": {
    "collapsed": false
   },
   "outputs": [
    {
     "data": {
      "text/plain": [
       "<itertools.islice at 0x10f9ddf98>"
      ]
     },
     "execution_count": 29,
     "metadata": {},
     "output_type": "execute_result"
    }
   ],
   "source": [
    "top5"
   ]
  },
  {
   "cell_type": "code",
   "execution_count": 35,
   "metadata": {
    "collapsed": false
   },
   "outputs": [
    {
     "name": "stdout",
     "output_type": "stream",
     "text": [
      "['Hello', 'Keith,', 'please', 'can', 'you', 'help', 'me,', 'I', 'was', 'just', 'talking', 'to', 'a', 'lovely', 'lady', 'called', 'Gayle,', 'and', 'we', 'were', 'disconnected', 'from', 'the', 'chat,', 'and', 'she', 'had', 'done', 'a', 'lot', 'of', 'hard', 'work', 'in', 'helping', 'me,', 'can', 'you', 'help', 'me', 'reconnect', 'my', 'discussion', 'with', 'her', 'please', 'she', 'was', 'just', 'about', 'to', 'take', 'my', 'details', 'when', 'we', 'disconnected', 'Oh', 'thank', 'you', 'so', 'much', 'Keith', ':)', 'Aww', 'you`re', 'a', 'star', 'Keith,', 'thanks', 'so', 'uch', ':)']\n",
      "['Heyyy!', 'Gayle,', 'lol,', 'I', 'dont', 'know', 'what', 'happened,', 'my', 'screen', 'suddenly', 'disappeared', 'and', 'the', 'chat', 'was', 'lost', 'Thanks', 'so', 'much', ':)']\n",
      "['Haha,', 'Yes,', 'I', 'could', 'not', 'believe', 'it,', 'just', 'relieved', 'I', 'was', 'able', 'to', 'reconnect', 'the', 'chat', 'with', 'you,', 'Ok,', 'my', 'email', 'address', 'is', 'kamerenstokes@googlemail.com', 'my', 'full', 'name', 'is', 'Kameren,', 'but', 'everyone', 'calls', 'me', 'Karen', 'or', 'Kj']\n",
      "['Haha,', 'yes', 'I', 'thought', 'I', 'would', 'explain', 'that.', 'When', 'I', 'wrote', 'Kameren', 'everyone', 'thinks', 'I`m', 'a', 'boy,', 'which', 'I`m', 'not,', 'obvs', 'lol', 'and', 'that`s', 'cool', 'that', 'you', 'and', 'your', 'mum', 'have', 'the', 'same', 'name.', 'I', 'must', 'say', 'that', 'I', 'am', 'blown', 'away', 'by', 'your', 'brilliance', 'in', 'your', 'work,', 'which', 'goes', 'far', 'and', 'beyond', 'the', 'call', 'of', 'your', 'duty,', 'andit', 'shows', 'what', 'an', 'amazing', 'person', 'you', 'are', 'hun', 'So', 'I', 'saw,', '(before', 'my', 'screen', 'bailed)', 'that', 'you', 'had', 'mentioned', 'Peterborough,', 'and', 'Rugby,', 'was', 'it?']\n",
      "['Well', 'I', 'only', 'tell', 'it', 'like', 'it', 'is', 'hun,', 'and', 'you', 'deserve', 'full', 'praise,', 'and', 'if', 'I', 'can', 'submit', 'any', 'feedback', 'for', 'you,', 'I', 'will', 'be', 'delighted', 'to', 'do', 'so']\n"
     ]
    }
   ],
   "source": [
    "for l in top5:\n",
    "    print(l)\n",
    "    "
   ]
  },
  {
   "cell_type": "code",
   "execution_count": 39,
   "metadata": {
    "collapsed": true
   },
   "outputs": [],
   "source": [
    "sentences = [['first', 'sentence'], ['second', 'sentence']]\n",
    "# train word2vec on the two sentences\n",
    "model = gensim.models.Word2Vec(sentences, min_count=1)"
   ]
  },
  {
   "cell_type": "code",
   "execution_count": 40,
   "metadata": {
    "collapsed": false
   },
   "outputs": [
    {
     "data": {
      "text/plain": [
       "<gensim.models.word2vec.Word2Vec at 0x10fa352b0>"
      ]
     },
     "execution_count": 40,
     "metadata": {},
     "output_type": "execute_result"
    }
   ],
   "source": [
    "model"
   ]
  },
  {
   "cell_type": "code",
   "execution_count": null,
   "metadata": {
    "collapsed": true
   },
   "outputs": [],
   "source": []
  }
 ],
 "metadata": {
  "anaconda-cloud": {},
  "kernelspec": {
   "display_name": "Python [MandS_p3]",
   "language": "python",
   "name": "Python [MandS_p3]"
  },
  "language_info": {
   "codemirror_mode": {
    "name": "ipython",
    "version": 3
   },
   "file_extension": ".py",
   "mimetype": "text/x-python",
   "name": "python",
   "nbconvert_exporter": "python",
   "pygments_lexer": "ipython3",
   "version": "3.5.2"
  }
 },
 "nbformat": 4,
 "nbformat_minor": 0
}

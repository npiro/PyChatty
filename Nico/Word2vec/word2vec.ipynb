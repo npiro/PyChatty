{
 "cells": [
  {
   "cell_type": "markdown",
   "metadata": {},
   "source": [
    "# Training word2vec"
   ]
  },
  {
   "cell_type": "markdown",
   "metadata": {},
   "source": [
    "First we load text data"
   ]
  },
  {
   "cell_type": "code",
   "execution_count": 1,
   "metadata": {
    "collapsed": false
   },
   "outputs": [],
   "source": [
    "import os.path\n",
    "\n",
    "import gensim, logging\n",
    "\n",
    "logging.basicConfig(format='%(asctime)s : %(levelname)s : %(message)s', level=logging.INFO)\n",
    "\n",
    "folder = '/Users/piromast/Dropbox/S2DS - M&S/Data/'\n",
    "agentFileName = os.path.join(folder, 'agentMessages.txt')\n",
    "clientFileName = os.path.join(folder, 'clientMessages.txt')\n",
    "\n"
   ]
  },
  {
   "cell_type": "markdown",
   "metadata": {},
   "source": [
    "Create generator class to load data line by line"
   ]
  },
  {
   "cell_type": "code",
   "execution_count": 2,
   "metadata": {
    "collapsed": true
   },
   "outputs": [],
   "source": [
    "class SentencesGenerator(object):\n",
    "    def __init__(self, filename):\n",
    "        self.filename = filename\n",
    " \n",
    "    def __iter__(self):\n",
    "        for line in open(self.filename):\n",
    "            yield line.split()"
   ]
  },
  {
   "cell_type": "markdown",
   "metadata": {},
   "source": [
    "Create iterator object for agent and client files"
   ]
  },
  {
   "cell_type": "code",
   "execution_count": 3,
   "metadata": {
    "collapsed": false
   },
   "outputs": [],
   "source": [
    "clientSentencesGenerator = SentencesGenerator(clientFileName)\n",
    "agentSentencesGenerator = SentencesGenerator(agentFileName)\n",
    "sentences=list(clientSentencesGenerator)"
   ]
  },
  {
   "cell_type": "markdown",
   "metadata": {},
   "source": [
    "Load model"
   ]
  },
  {
   "cell_type": "raw",
   "metadata": {},
   "source": [
    "model = gensim.models.Word2Vec(sentences, size=100, window=5, min_count=5, workers=4)"
   ]
  },
  {
   "cell_type": "markdown",
   "metadata": {},
   "source": [
    "Train model and save"
   ]
  },
  {
   "cell_type": "code",
   "execution_count": 9,
   "metadata": {
    "collapsed": false
   },
   "outputs": [
    {
     "ename": "NameError",
     "evalue": "name 'model' is not defined",
     "output_type": "error",
     "traceback": [
      "\u001b[0;31m---------------------------------------------------------------------------\u001b[0m",
      "\u001b[0;31mNameError\u001b[0m                                 Traceback (most recent call last)",
      "\u001b[0;32m<ipython-input-9-7d60db932df6>\u001b[0m in \u001b[0;36m<module>\u001b[0;34m()\u001b[0m\n\u001b[1;32m      1\u001b[0m \u001b[0msentences\u001b[0m\u001b[0;34m\u001b[0m\u001b[0m\n\u001b[0;32m----> 2\u001b[0;31m \u001b[0mmodel\u001b[0m\u001b[0;34m.\u001b[0m\u001b[0msave\u001b[0m\u001b[0;34m(\u001b[0m\u001b[0mos\u001b[0m\u001b[0;34m.\u001b[0m\u001b[0mpath\u001b[0m\u001b[0;34m.\u001b[0m\u001b[0mjoin\u001b[0m\u001b[0;34m(\u001b[0m\u001b[0mfolder\u001b[0m\u001b[0;34m,\u001b[0m\u001b[0;34m'clientW2V_Model'\u001b[0m\u001b[0;34m)\u001b[0m\u001b[0;34m)\u001b[0m\u001b[0;34m\u001b[0m\u001b[0m\n\u001b[0m",
      "\u001b[0;31mNameError\u001b[0m: name 'model' is not defined"
     ]
    }
   ],
   "source": [
    "sentences\n",
    "model.save(os.path.join(folder,'clientW2V_Model'))"
   ]
  },
  {
   "cell_type": "code",
   "execution_count": 6,
   "metadata": {
    "collapsed": false
   },
   "outputs": [
    {
     "ename": "NameError",
     "evalue": "name 'model' is not defined",
     "output_type": "error",
     "traceback": [
      "\u001b[0;31m---------------------------------------------------------------------------\u001b[0m",
      "\u001b[0;31mNameError\u001b[0m                                 Traceback (most recent call last)",
      "\u001b[0;32m<ipython-input-6-458d5f1afc81>\u001b[0m in \u001b[0;36m<module>\u001b[0;34m()\u001b[0m\n\u001b[0;32m----> 1\u001b[0;31m \u001b[0mmodel\u001b[0m\u001b[0;34m\u001b[0m\u001b[0m\n\u001b[0m",
      "\u001b[0;31mNameError\u001b[0m: name 'model' is not defined"
     ]
    }
   ],
   "source": [
    "model"
   ]
  },
  {
   "cell_type": "code",
   "execution_count": 7,
   "metadata": {
    "collapsed": false
   },
   "outputs": [
    {
     "data": {
      "text/plain": [
       "<gensim.models.word2vec.Word2Vec at 0x10f994ef0>"
      ]
     },
     "execution_count": 7,
     "metadata": {},
     "output_type": "execute_result"
    }
   ],
   "source": [
    "gensim.models.Word2Vec(size=100, window=5, min_count=5, workers=4)"
   ]
  },
  {
   "cell_type": "code",
   "execution_count": null,
   "metadata": {
    "collapsed": false
   },
   "outputs": [],
   "source": [
    "gensim.models.Word2Vec"
   ]
  },
  {
   "cell_type": "code",
   "execution_count": 9,
   "metadata": {
    "collapsed": true
   },
   "outputs": [],
   "source": [
    "import itertools\n",
    "top5 = itertools.islice(clientSentencesGenerator, 5)"
   ]
  },
  {
   "cell_type": "code",
   "execution_count": 10,
   "metadata": {
    "collapsed": false
   },
   "outputs": [
    {
     "data": {
      "text/plain": [
       "<itertools.islice at 0x10f9ae688>"
      ]
     },
     "execution_count": 10,
     "metadata": {},
     "output_type": "execute_result"
    }
   ],
   "source": [
    "top5"
   ]
  },
  {
   "cell_type": "code",
   "execution_count": 11,
   "metadata": {
    "collapsed": false
   },
   "outputs": [
    {
     "name": "stdout",
     "output_type": "stream",
     "text": [
      "[['Hello', 'Keith,', 'please', 'can', 'you', 'help', 'me,', 'I', 'was', 'just', 'talking', 'to', 'a', 'lovely', 'lady', 'called', 'Gayle,', 'and', 'we', 'were', 'disconnected', 'from', 'the', 'chat,', 'and', 'she', 'had', 'done', 'a', 'lot', 'of', 'hard', 'work', 'in', 'helping', 'me,', 'can', 'you', 'help', 'me', 'reconnect', 'my', 'discussion', 'with', 'her', 'please', 'she', 'was', 'just', 'about', 'to', 'take', 'my', 'details', 'when', 'we', 'disconnected', 'Oh', 'thank', 'you', 'so', 'much', 'Keith', ':)', 'Aww', 'you`re', 'a', 'star', 'Keith,', 'thanks', 'so', 'uch', ':)']]\n",
      "[['Heyyy!', 'Gayle,', 'lol,', 'I', 'dont', 'know', 'what', 'happened,', 'my', 'screen', 'suddenly', 'disappeared', 'and', 'the', 'chat', 'was', 'lost', 'Thanks', 'so', 'much', ':)']]\n",
      "[['Haha,', 'Yes,', 'I', 'could', 'not', 'believe', 'it,', 'just', 'relieved', 'I', 'was', 'able', 'to', 'reconnect', 'the', 'chat', 'with', 'you,', 'Ok,', 'my', 'email', 'address', 'is', 'kamerenstokes@googlemail.com', 'my', 'full', 'name', 'is', 'Kameren,', 'but', 'everyone', 'calls', 'me', 'Karen', 'or', 'Kj']]\n",
      "[['Haha,', 'yes', 'I', 'thought', 'I', 'would', 'explain', 'that.', 'When', 'I', 'wrote', 'Kameren', 'everyone', 'thinks', 'I`m', 'a', 'boy,', 'which', 'I`m', 'not,', 'obvs', 'lol', 'and', 'that`s', 'cool', 'that', 'you', 'and', 'your', 'mum', 'have', 'the', 'same', 'name.', 'I', 'must', 'say', 'that', 'I', 'am', 'blown', 'away', 'by', 'your', 'brilliance', 'in', 'your', 'work,', 'which', 'goes', 'far', 'and', 'beyond', 'the', 'call', 'of', 'your', 'duty,', 'andit', 'shows', 'what', 'an', 'amazing', 'person', 'you', 'are', 'hun', 'So', 'I', 'saw,', '(before', 'my', 'screen', 'bailed)', 'that', 'you', 'had', 'mentioned', 'Peterborough,', 'and', 'Rugby,', 'was', 'it?']]\n",
      "[['Well', 'I', 'only', 'tell', 'it', 'like', 'it', 'is', 'hun,', 'and', 'you', 'deserve', 'full', 'praise,', 'and', 'if', 'I', 'can', 'submit', 'any', 'feedback', 'for', 'you,', 'I', 'will', 'be', 'delighted', 'to', 'do', 'so']]\n"
     ]
    }
   ],
   "source": [
    "for l in top5:\n",
    "    print(l)\n",
    "    "
   ]
  },
  {
   "cell_type": "code",
   "execution_count": 39,
   "metadata": {
    "collapsed": true
   },
   "outputs": [],
   "source": [
    "sentences = [['first', 'sentence'], ['second', 'sentence']]\n",
    "# train word2vec on the two sentences\n",
    "model = gensim.models.Word2Vec(sentences, min_count=1)"
   ]
  },
  {
   "cell_type": "code",
   "execution_count": 40,
   "metadata": {
    "collapsed": false
   },
   "outputs": [
    {
     "data": {
      "text/plain": [
       "<gensim.models.word2vec.Word2Vec at 0x10fa352b0>"
      ]
     },
     "execution_count": 40,
     "metadata": {},
     "output_type": "execute_result"
    }
   ],
   "source": [
    "model"
   ]
  },
  {
   "cell_type": "code",
   "execution_count": 9,
   "metadata": {
    "collapsed": false
   },
   "outputs": [
    {
     "data": {
      "text/plain": [
       "228907"
      ]
     },
     "execution_count": 9,
     "metadata": {},
     "output_type": "execute_result"
    }
   ],
   "source": [
    "len(sentences)"
   ]
  },
  {
   "cell_type": "code",
   "execution_count": null,
   "metadata": {
    "collapsed": true
   },
   "outputs": [],
   "source": []
  }
 ],
 "metadata": {
  "anaconda-cloud": {},
  "kernelspec": {
   "display_name": "Python [MandS_p3]",
   "language": "python",
   "name": "Python [MandS_p3]"
  },
  "language_info": {
   "codemirror_mode": {
    "name": "ipython",
    "version": 3
   },
   "file_extension": ".py",
   "mimetype": "text/x-python",
   "name": "python",
   "nbconvert_exporter": "python",
   "pygments_lexer": "ipython3",
   "version": "3.5.2"
  }
 },
 "nbformat": 4,
 "nbformat_minor": 0
}

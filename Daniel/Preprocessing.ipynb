{
 "cells": [
  {
   "cell_type": "markdown",
   "metadata": {},
   "source": [
    "## Original data is misformatted\n",
    "\n",
    "Fix it by removing the \n",
    "\n",
    "```<?xml version=\"1.0\" encoding=\"utf-8\"?>```\n",
    "\n",
    "from every line and adding root.\n",
    "\n",
    "We go from __01_fill_output_cleaned.xml__ to __02_data.xml__."
   ]
  },
  {
   "cell_type": "code",
   "execution_count": 8,
   "metadata": {
    "collapsed": false
   },
   "outputs": [],
   "source": [
    "import codecs\n",
    "data_folder = '/home/daniel/s2ds/Data/'\n",
    "raw_file = codecs.open(data_folder + '01_full_output_cleaned.xml', 'rU', 'utf-8')\n",
    "cleaned_file = codecs.open(data_folder + '02_data.xml', 'w', 'utf-8')\n",
    "cleaned_file.write('<?xml version=\"1.0\" encoding=\"utf-8\"?>\\n<root>\\n')\n",
    "for i in raw_file:\n",
    "    if i[:4]!='<?xm':\n",
    "        cleaned_file.write(i)\n",
    "cleaned_file.write('</root>')\n",
    "cleaned_file.close()"
   ]
  },
  {
   "cell_type": "markdown",
   "metadata": {},
   "source": [
    "### Create test dataset for testing parsing"
   ]
  },
  {
   "cell_type": "code",
   "execution_count": null,
   "metadata": {
    "collapsed": true
   },
   "outputs": [],
   "source": [
    "import codecs\n",
    "data_folder = '/home/daniel/s2ds/Data/'\n",
    "raw_file = codecs.open(data_folder + '01_full_output_cleaned.xml', 'rU', 'utf-8')\n",
    "cleaned_file = codecs.open(data_folder + '02_data_test.xml', 'w', 'utf-8')\n",
    "cleaned_file.write('<?xml version=\"1.0\" encoding=\"utf-8\"?>\\n<root>\\n')\n",
    "for i, l in enumerate(raw_file):\n",
    "    if i < 1000:\n",
    "        if l[:4]!='<?xm':\n",
    "            cleaned_file.write(l)\n",
    "cleaned_file.write('</root>')\n",
    "cleaned_file.close()"
   ]
  },
  {
   "cell_type": "markdown",
   "metadata": {},
   "source": [
    "## Parse the XML to get client - agent messages\n",
    "\n",
    "Get touples of client-agent conversation bits from XML formatted chats. This will produce __03_clientMessages.txt__ and __03_agentMessages.txt__.\n",
    "\n",
    "Also save the length of coversation and ID of conversation in __03_convLen.txt__ and __03_convNum.txt__, plus weather an external agent (customer service guy who has more specific knowledge about the customer's problem) took over the conversation from the original agent (saved to __03_externalAgent.txt__)."
   ]
  },
  {
   "cell_type": "code",
   "execution_count": 10,
   "metadata": {
    "collapsed": true
   },
   "outputs": [],
   "source": [
    "from bs4 import BeautifulSoup  # xml parsing library\n",
    "\n",
    "# open files\n",
    "client_messages_file = codecs.open(data_folder + '03_clientMessages.txt', 'a', 'utf-8')\n",
    "agent_messages_file = codecs.open(data_folder + '03_agentMessages.txt', 'a', 'utf-8')\n",
    "conversation_num_file = codecs.open(data_folder + '03_convNum.txt', 'a', 'utf-8')\n",
    "conversation_len_file = codecs.open(data_folder + '03_convLen.txt', 'a', 'utf-8')\n",
    "external_agent_file = codecs.open(data_folder + '03_externalAgent.txt', 'a', 'utf-8')\n",
    "cleaned_file = codecs.open(data_folder + '02_data_test.xml', 'rU', 'utf-8')\n",
    "\n",
    "conversation_num = 0\n",
    "\n",
    "for i, line in enumerate(cleaned_file):\n",
    "    # ignore xml declaration and root line\n",
    "    if i > 1:\n",
    "        # define each line as a new xml object\n",
    "        chat = BeautifulSoup(line, 'xml')\n",
    "        \n",
    "        # define main variables\n",
    "        parties = chat.findAll('newParty')\n",
    "        messagePairs = []\n",
    "        clientID = ''\n",
    "        agentID = ''\n",
    "        externalID = ''\n",
    "        \n",
    "        # work out which message belongs to whom: client, agent\n",
    "        for party in parties:\n",
    "            if party.userInfo['userType'] == 'CLIENT':\n",
    "                clientID = party['userId']\n",
    "            elif party.userInfo['userType'] == 'AGENT':\n",
    "                agentID = party['userId']\n",
    "            elif party.userInfo['userType'] == 'EXTERNAL':\n",
    "                externalID = party['userId']\n",
    "                \n",
    "        # get all messages from the chat\n",
    "        messages = chat.findAll('message')\n",
    "        \n",
    "        # define flags for merging consequtive messages from the same party\n",
    "        first_client_message = 0\n",
    "        client_message = 0\n",
    "        agent_message = 0\n",
    "        \n",
    "        # do we have both client and agent?        \n",
    "        for message in messages:\n",
    "            # we look for the first client message and start with that\n",
    "            if message['userId'] == clientID and first_client_message == 0:\n",
    "                first_client_message = 1\n",
    "                client_message =  1\n",
    "                client_message_text = message.msgText.contents[0]\n",
    "            \n",
    "            # CLIENT MESSAGE\n",
    "            if message['userId'] == clientID and first_client_message == 1:\n",
    "                # if the agent has spoken and now it's client again, save previous touple            \n",
    "                if agent_message == 1:\n",
    "                    messagePairs.append((client_message_text, agent_message_text))\n",
    "                    agent_message = 0\n",
    "                \n",
    "                # if no previous client message define new client_message_text\n",
    "                if client_message == 0:\n",
    "                    client_message_text = message.msgText.contents[0]\n",
    "                # else continue previous\n",
    "                elif client_message == 1 and message.msgText.contents[0] != client_message_text:\n",
    "                    client_message_text += ' ' + message.msgText.contents[0]\n",
    "                client_message = 1\n",
    "                \n",
    "            # AGENT MASSAGE\n",
    "            if (message['userId'] == agentID or message['userId'] == externalID) and first_client_message == 1:\n",
    "                client_message = 0\n",
    "                # if no previous agent message define new client_message_text\n",
    "                if agent_message == 0:                \n",
    "                    agent_message_text = message.msgText.contents[0]\n",
    "                # else continue previous\n",
    "                else:\n",
    "                    agent_message_text += ' ' + message.msgText.contents[0]\n",
    "                agent_message = 1\n",
    "                \n",
    "        # if the very last touple wasn't saved save it\n",
    "        if agent_message == 1:\n",
    "            messagePairs.append((client_message_text, agent_message_text))\n",
    "            \n",
    "        # write out sentences from conversation\n",
    "        if len(messagePairs) != 0:\n",
    "            for m in messagePairs:\n",
    "                \n",
    "                client_messages_file.write(m[0] + '\\n')\n",
    "                agent_messages_file.write(m[1] + '\\n')\n",
    "            conversation_num_file.write('\\n'+'\\n'.join([str(conversation_num)] * len(messagePairs)))\n",
    "            conversation_len_file.write('\\n'+'\\n'.join([str(len(messagePairs))] * len(messagePairs)))\n",
    "            if externalID == '':\n",
    "                external_agent_file.write('\\n'+'\\n'.join(['0'] * len(messagePairs)))    \n",
    "            else:\n",
    "                external_agent_file.write('\\n'+'\\n'.join(['1'] * len(messagePairs)))    \n",
    "            conversation_num += 1"
   ]
  },
  {
   "cell_type": "markdown",
   "metadata": {},
   "source": [
    "## Plot the length of conversations\n",
    "\n",
    "Check the distribution of length of conversations. The x-axis represent question answer tuples, so 10 means a conversation with 20 messages."
   ]
  },
  {
   "cell_type": "code",
   "execution_count": 8,
   "metadata": {
    "collapsed": false
   },
   "outputs": [
    {
     "data": {
      "text/plain": [
       "<matplotlib.axes.AxesSubplot at 0x7efe3c3afc50>"
      ]
     },
     "execution_count": 8,
     "metadata": {},
     "output_type": "execute_result"
    },
    {
     "data": {
      "image/png": "[encoded data removed]"
     },
     "metadata": {},
     "output_type": "display_data"
    }
   ],
   "source": [
    "import pandas as pd\n",
    "import numpy as np\n",
    "import seaborn as sns\n",
    "from matplotlib import pyplot as  plt\n",
    "%matplotlib inline \n",
    "plt.rcParams['figure.figsize'] = (10, 6)\n",
    "\n",
    "f = open(data_folder + '03_convNum.txt')\n",
    "conv_num =[]\n",
    "for i, line in enumerate(f):\n",
    "    if i > 0:\n",
    "        conv_num.append(int(line.strip()))\n",
    "        \n",
    "f = open(data_folder + '03_convLen.txt')\n",
    "conv_len =[]\n",
    "for i, line in enumerate(f):\n",
    "    if i > 0:\n",
    "        conv_len.append(int(line.strip()))\n",
    "\n",
    "df = pd.DataFrame(zip(conv_num, conv_len), columns = ['ID', 'length'])\n",
    "len_of_convs = df.groupby('ID')['length'].mean()\n",
    "len_of_convs.hist(bins=50)"
   ]
  },
  {
   "cell_type": "markdown",
   "metadata": {},
   "source": [
    "## Remove stopwords\n",
    "\n",
    "Remove stopwords and punctuation from both client and agent messages, and create concatened message corpus, where each line has a question from the client and an answer from the agent."
   ]
  },
  {
   "cell_type": "code",
   "execution_count": 56,
   "metadata": {
    "collapsed": true
   },
   "outputs": [],
   "source": [
    "from nltk.corpus import stopwords\n",
    "from nltk.tokenize import RegexpTokenizer\n",
    "from itertools import izip\n",
    "\n",
    "# load stopwords\n",
    "stop = set(stopwords.words('english'))\n",
    "# regexp for removing punctuation\n",
    "tokenizer = RegexpTokenizer(r'\\w+')\n",
    "\n",
    "# open files for filtering\n",
    "client_messages = codecs.open(data_folder + '03_clientMessages.txt', 'rU', 'utf-8')\n",
    "client_messages2 = codecs.open(data_folder + '03_clientMessagesMatch04.txt', 'w', 'utf-8')\n",
    "client_messages_filtered = codecs.open(data_folder + '04_clientMessagesFiltered.txt', 'w', 'utf-8')\n",
    "agent_messages = codecs.open(data_folder + '03_agentMessages.txt', 'rU', 'utf-8')\n",
    "agent_messages2 = codecs.open(data_folder + '03_agentMessagesMatch04.txt', 'w', 'utf-8')\n",
    "agent_messages_filtered = codecs.open(data_folder + '04_agentMessagesFiltered.txt', 'w', 'utf-8')\n",
    "client_agent_messages_filtered = codecs.open(data_folder + '04_clientAgentMessagesFiltered.txt', 'w', 'utf-8')\n",
    "\n",
    "def join_line(line_list):\n",
    "    \"\"\"\n",
    "    Joins a list of strings into one string.\n",
    "    \"\"\"\n",
    "    return ' '.join(line_list)\n",
    "\n",
    "with client_messages as client, agent_messages as agent: \n",
    "    for client_line, agent_line in izip(client, agent):\n",
    "        no_punctuation_client = join_line(tokenizer.tokenize(client_line))\n",
    "        no_punctuation_agent = join_line(tokenizer.tokenize(agent_line))\n",
    "        \n",
    "        if len(no_punctuation_client) > 0 and len(no_punctuation_agent) > 0:\n",
    "            no_punctuation_client = no_punctuation_client.lower().split()\n",
    "            no_punctuation_agent = no_punctuation_agent.lower().split()\n",
    "            no_stopwords_client = [w for w in no_punctuation_client if w not in stop]\n",
    "            no_stopwords_agent = [w for w in no_punctuation_agent if w not in stop]\n",
    "\n",
    "            if len(no_stopwords_client) > 0 and len(no_stopwords_agent) > 0:\n",
    "                no_stopwords_client = join_line(no_stopwords_client)\n",
    "                no_stopwords_agent = join_line(no_stopwords_agent)\n",
    "                client_messages2.write(client_line)\n",
    "                agent_messages2.write(agent_line)\n",
    "                client_messages_filtered.write(no_stopwords_client + '\\n')\n",
    "                agent_messages_filtered.write(no_stopwords_agent + '\\n')\n",
    "                client_agent_messages_filtered.write(no_stopwords_client + ' ' + no_stopwords_agent + '\\n')"
   ]
  },
  {
   "cell_type": "markdown",
   "metadata": {},
   "source": [
    "## Merge phrases of bigrams and trigrams\n",
    "\n",
    "Adapted from Walter's feature_extraction notebook. It will group together common phrases like thank you as thank_you.\n",
    "\n",
    "Creates __05_clientMessagesFiltered_trigram__, __05_agentMessagesFiltered_trigram__, __05_clientAgentMessagesFiltered_trigram__. "
   ]
  },
  {
   "cell_type": "code",
   "execution_count": 14,
   "metadata": {
    "collapsed": true
   },
   "outputs": [],
   "source": [
    "import gensim as gs\n",
    "files = [\"04_clientMessagesFiltered\", \"04_agentMessagesFiltered\", \"04_clientAgentMessagesFiltered\"]\n",
    "\n",
    "for f in files:\n",
    "    file_open = codecs.open(data_folder + f + '.txt','r','utf-8')\n",
    "    chats = []\n",
    "    for line in file_open:\n",
    "        chats.append(line.strip().split())\n",
    "        \n",
    "    # find collections \n",
    "    bigram = gs.models.Phrases(chats)\n",
    "    trigram = gs.models.Phrases(bigram[chats])\n",
    "    \n",
    "    \n",
    "    # write results\n",
    "    filename = f.split('_')[1]\n",
    "    outfile = codecs.open(data_folder + '05_' + filename  + \"_bigram.txt\", 'w', 'utf-8')\n",
    "    for sentence in list(bigram[chats]):\n",
    "        try:\n",
    "            outfile.write(\" \".join(sentence) + \"\\n\")\n",
    "        except:\n",
    "            pass\n",
    "    outfile = codecs.open(data_folder + '05_' + filename + \"_trigram.txt\", 'w', 'utf-8')\n",
    "    for sentence in list(trigram[chats]):\n",
    "        try:\n",
    "            outfile.write(\" \".join(sentence) + \"\\n\")\n",
    "        except:\n",
    "            pass"
   ]
  },
  {
   "cell_type": "markdown",
   "metadata": {},
   "source": [
    "## Generate vectors for each sentence using the W2V models of Nico"
   ]
  },
  {
   "cell_type": "code",
   "execution_count": 5,
   "metadata": {
    "collapsed": false
   },
   "outputs": [
    {
     "name": "stderr",
     "output_type": "stream",
     "text": [
      "/usr/local/lib/python2.7/dist-packages/numpy/core/_methods.py:59: RuntimeWarning: Mean of empty slice.\n",
      "  warnings.warn(\"Mean of empty slice.\", RuntimeWarning)\n",
      "/usr/local/lib/python2.7/dist-packages/numpy/core/_methods.py:70: RuntimeWarning: invalid value encountered in double_scalars\n",
      "  ret = ret.dtype.type(ret / rcount)\n"
     ]
    }
   ],
   "source": [
    "import os\n",
    "import numpy as np\n",
    "import gensim as gs\n",
    "# Load model\n",
    "model = gs.models.Word2Vec.load(os.path.join(data_folder, 'clientW2V_BothSeperate'))\n",
    "\n",
    "# Load client text and calculate average word vector\n",
    "client_file = codecs.open(data_folder + '04_clientMessagesFiltered.txt', 'r', 'utf-8')\n",
    "\n",
    "sentence_vects = []\n",
    "for i, sentence in enumerate(client_file):\n",
    "    sentence_matrix = np.array([model[w].T for w in sentence.strip().split() if w in model])\n",
    "    sentence_vect = np.mean(sentence_matrix, axis=0)\n",
    "    try:\n",
    "        sentence_vects.append(sentence_vect)\n",
    "    except:\n",
    "        pass"
   ]
  },
  {
   "cell_type": "code",
   "execution_count": 6,
   "metadata": {
    "collapsed": true
   },
   "outputs": [],
   "source": [
    "client_sentences = np.zeros((len(sentence_vects), 100))\n",
    "for i, sentence in enumerate(sentence_vects):\n",
    "    client_sentences[i, :] = np.array(sentence)"
   ]
  },
  {
   "cell_type": "markdown",
   "metadata": {},
   "source": [
    "## Train KD Tree, define lookup function, save  and load KD Tree"
   ]
  },
  {
   "cell_type": "code",
   "execution_count": 7,
   "metadata": {
    "collapsed": true
   },
   "outputs": [],
   "source": [
    "def get_sentence_vector(sentence):\n",
    "    sentence_matrix = np.array([model[w].T for w in sentence.strip().split() if w in model])\n",
    "    sentence_vect = np.mean(sentence_matrix, axis=0)\n",
    "    return sentence_vect"
   ]
  },
  {
   "cell_type": "code",
   "execution_count": 8,
   "metadata": {
    "collapsed": true
   },
   "outputs": [],
   "source": [
    "from sklearn.neighbors import KDTree\n",
    "tree = KDTree(client_sentences)"
   ]
  },
  {
   "cell_type": "code",
   "execution_count": 48,
   "metadata": {
    "collapsed": true
   },
   "outputs": [],
   "source": [
    "import cPickle\n",
    "# save the classifier\n",
    "with open(data_folder + 'kdtree.pkl', 'wb') as fid:\n",
    "    cPickle.dump(tree, fid)"
   ]
  },
  {
   "cell_type": "code",
   "execution_count": 4,
   "metadata": {
    "collapsed": false
   },
   "outputs": [
    {
     "ename": "ValueError",
     "evalue": "unsupported pickle protocol: 3",
     "output_type": "error",
     "traceback": [
      "\u001b[1;31m---------------------------------------------------------------------------\u001b[0m",
      "\u001b[1;31mValueError\u001b[0m                                Traceback (most recent call last)",
      "\u001b[1;32m<ipython-input-4-e6df6f3ae57a>\u001b[0m in \u001b[0;36m<module>\u001b[1;34m()\u001b[0m\n\u001b[0;32m      2\u001b[0m \u001b[1;31m# load it again\u001b[0m\u001b[1;33m\u001b[0m\u001b[1;33m\u001b[0m\u001b[0m\n\u001b[0;32m      3\u001b[0m \u001b[1;32mwith\u001b[0m \u001b[0mopen\u001b[0m\u001b[1;33m(\u001b[0m\u001b[0mdata_folder\u001b[0m \u001b[1;33m+\u001b[0m \u001b[1;34m'kdtree.pkl'\u001b[0m\u001b[1;33m,\u001b[0m \u001b[1;34m'rb'\u001b[0m\u001b[1;33m)\u001b[0m \u001b[1;32mas\u001b[0m \u001b[0mfid\u001b[0m\u001b[1;33m:\u001b[0m\u001b[1;33m\u001b[0m\u001b[0m\n\u001b[1;32m----> 4\u001b[1;33m     \u001b[0mtree\u001b[0m \u001b[1;33m=\u001b[0m \u001b[0mcPickle\u001b[0m\u001b[1;33m.\u001b[0m\u001b[0mload\u001b[0m\u001b[1;33m(\u001b[0m\u001b[0mfid\u001b[0m\u001b[1;33m)\u001b[0m\u001b[1;33m\u001b[0m\u001b[0m\n\u001b[0m",
      "\u001b[1;31mValueError\u001b[0m: unsupported pickle protocol: 3"
     ]
    }
   ],
   "source": [
    "# load it again\n",
    "with open(data_folder + 'kdtree.pkl', 'rb') as fid:\n",
    "    tree = cPickle.load(fid)"
   ]
  },
  {
   "cell_type": "markdown",
   "metadata": {},
   "source": [
    "## Test preliminary model with query sentences"
   ]
  },
  {
   "cell_type": "code",
   "execution_count": 59,
   "metadata": {
    "collapsed": false
   },
   "outputs": [
    {
     "name": "stderr",
     "output_type": "stream",
     "text": [
      "/usr/local/lib/python2.7/dist-packages/sklearn/utils/validation.py:386: DeprecationWarning: Passing 1d arrays as data is deprecated in 0.17 and willraise ValueError in 0.19. Reshape your data either using X.reshape(-1, 1) if your data has a single feature or X.reshape(1, -1) if it contains a single sample.\n",
      "  DeprecationWarning)\n"
     ]
    }
   ],
   "source": [
    "query = 'i want to reschedule my delivery date'\n",
    "query = 'i think my order got lost'\n",
    "query = 'cannot log into my account'\n",
    "dist, ind = tree.query(get_sentence_vector(query), k=1)"
   ]
  },
  {
   "cell_type": "code",
   "execution_count": 60,
   "metadata": {
    "collapsed": false
   },
   "outputs": [
    {
     "name": "stdout",
     "output_type": "stream",
     "text": [
      "CLIENT:  I cannot log into my account \n",
      "\n",
      "AGENT:  i am sorry to hear that Elizabeth. Could you please tell me what error you are getting, when you are trying to login.\n",
      "\n"
     ]
    }
   ],
   "source": [
    "client_file = codecs.open(data_folder + '03_clientMessagesMatch04.txt', 'r', 'utf-8')\n",
    "agent_file = codecs.open(data_folder + '03_agentMessagesMatch04.txt', 'r', 'utf-8')\n",
    "for i, line in enumerate(client_file):\n",
    "    if i == ind[0][0]:\n",
    "        print 'CLIENT: ', line\n",
    "for i, line in enumerate(agent_file):\n",
    "    if i == ind[0][0]:\n",
    "        print 'AGENT: ', line"
   ]
  },
  {
   "cell_type": "markdown",
   "metadata": {},
   "source": [
    "## beta chatbot v. 001"
   ]
  },
  {
   "cell_type": "code",
   "execution_count": null,
   "metadata": {
    "collapsed": true
   },
   "outputs": [],
   "source": [
    "import warnings\n",
    "warnings.filterwarnings('ignore')\n",
    "\n",
    "def lookup_answer(query):\n",
    "    try:\n",
    "        dist, ind = tree.query(get_sentence_vector(query.lower()), k=1)\n",
    "        agent_file = codecs.open(data_folder + '03_agentMessagesMatch04.txt', 'r', 'utf-8')\n",
    "        client_file = codecs.open(data_folder + '03_clientMessagesMatch04.txt', 'r', 'utf-8')\n",
    "        for i, line in enumerate(agent_file):\n",
    "            if i == ind[0][0]:\n",
    "                agent_line = line\n",
    "                break\n",
    "        for i, line in enumerate(client_file):\n",
    "            if i == ind[0][0]:\n",
    "                client_line = line\n",
    "                break\n",
    "    except:\n",
    "        agent_line = \"Oops that didn't work. Try something else..\"\n",
    "        client_line = ''\n",
    "            \n",
    "    return agent_line, client_line\n",
    "    \n",
    "def chatbot():\n",
    "    while True:\n",
    "        agent_line, client_line = lookup_answer(raw_input())\n",
    "        client_line = (\"(%s)\\n\" % client_line.strip())\n",
    "        print client_line, agent_line\n",
    "\n",
    "chatbot()"
   ]
  },
  {
   "cell_type": "code",
   "execution_count": null,
   "metadata": {
    "collapsed": true
   },
   "outputs": [],
   "source": []
  }
 ],
 "metadata": {
  "kernelspec": {
   "display_name": "Python 2",
   "language": "python",
   "name": "python2"
  },
  "language_info": {
   "codemirror_mode": {
    "name": "ipython",
    "version": 2
   },
   "file_extension": ".py",
   "mimetype": "text/x-python",
   "name": "python",
   "nbconvert_exporter": "python",
   "pygments_lexer": "ipython2",
   "version": "2.7.6"
  }
 },
 "nbformat": 4,
 "nbformat_minor": 0
}

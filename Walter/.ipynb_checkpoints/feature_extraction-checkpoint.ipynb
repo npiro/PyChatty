{
 "cells": [
  {
   "cell_type": "markdown",
   "metadata": {},
   "source": [
    "## Feature extraction using gs.models.Phrases\n",
    "\n",
    "### To do\n",
    "- make datadir relative so that each person can use the script without editing it "
   ]
  },
  {
   "cell_type": "markdown",
   "metadata": {},
   "source": [
    "### Define paths"
   ]
  },
  {
   "cell_type": "code",
   "execution_count": 3,
   "metadata": {
    "collapsed": false
   },
   "outputs": [],
   "source": [
    "data_dir = \"/home/walter/Dropbox/S2DS - M&S/Data\"\n",
    "def get_file_path(data_dir,file_name):\n",
    "    return data_dir + \"/\" + file_name + \".txt\""
   ]
  },
  {
   "cell_type": "markdown",
   "metadata": {},
   "source": [
    "### Import chats"
   ]
  },
  {
   "cell_type": "code",
   "execution_count": 4,
   "metadata": {
    "collapsed": false
   },
   "outputs": [
    {
     "name": "stdout",
     "output_type": "stream",
     "text": [
      "[[u'hello', u'keith', u'please', u'help', u'talking', u'lovely', u'lady', u'called', u'gayle', u'disconnected', u'chat', u'done', u'lot', u'hard', u'work', u'helping', u'help', u'reconnect', u'discussion', u'please', u'take', u'details', u'disconnected', u'oh', u'thank', u'much', u'keith', u'aww', u'star', u'keith', u'thanks', u'uch', u'hi', u'gayle', u'welcome', u'live', u'chat', u'may', u'help', u'today', u'back', u'karen']]\n"
     ]
    }
   ],
   "source": [
    "import codecs\n",
    "import gensim as gs\n",
    "#file_name     = \"04_clientMessagesFiltered\"\n",
    "file_name     = \"04_clientAgentMessagesFiltered\"\n",
    "\n",
    "svFile=codecs.open(get_file_path(data_dir,file_name),'r','utf-8')\n",
    "chats = list()\n",
    "for line in svFile:\n",
    "    sentence_words = line.split()\n",
    "    sentence = list()\n",
    "    for word in sentence_words:\n",
    "        sentence.append(word)\n",
    "#        sentence.append(word.decode('utf-8'))\n",
    "    chats.append(sentence)\n",
    "print chats[0:1]"
   ]
  },
  {
   "cell_type": "markdown",
   "metadata": {},
   "source": [
    "### Create bigram and triagram models\n",
    "Find collocations"
   ]
  },
  {
   "cell_type": "code",
   "execution_count": 5,
   "metadata": {
    "collapsed": false,
    "scrolled": true
   },
   "outputs": [
    {
     "name": "stdout",
     "output_type": "stream",
     "text": [
      "Bigrams\n",
      "[[u'hello', u'keith', u'please', u'help', u'talking', u'lovely_lady', u'called', u'gayle', u'disconnected', u'chat', u'done', u'lot', u'hard', u'work', u'helping', u'help', u'reconnect', u'discussion', u'please', u'take', u'details', u'disconnected', u'oh', u'thank', u'much', u'keith', u'aww', u'star', u'keith', u'thanks', u'uch', u'hi', u'gayle', u'welcome_live', u'chat', u'may', u'help', u'today', u'back', u'karen']]\n",
      "Trigrams\n",
      "[[u'hello_keith', u'please', u'help', u'talking', u'lovely_lady', u'called', u'gayle', u'disconnected', u'chat', u'done', u'lot', u'hard_work', u'helping', u'help', u'reconnect', u'discussion', u'please', u'take', u'details', u'disconnected', u'oh', u'thank_much', u'keith', u'aww', u'star', u'keith', u'thanks', u'uch', u'hi', u'gayle', u'welcome_live', u'chat_may', u'help', u'today', u'back', u'karen']]\n"
     ]
    }
   ],
   "source": [
    "import gensim as gs\n",
    "\n",
    "print(\"Bigrams\")\n",
    "bigram = gs.models.Phrases(chats)\n",
    "print(list(bigram[chats][0:1]))\n",
    "    \n",
    "print(\"Trigrams\")\n",
    "trigram = gs.models.Phrases(bigram[chats])\n",
    "print(list(trigram[chats][0:1]))\n"
   ]
  },
  {
   "cell_type": "markdown",
   "metadata": {},
   "source": [
    "### write tokenized chats"
   ]
  },
  {
   "cell_type": "code",
   "execution_count": null,
   "metadata": {
    "collapsed": false,
    "scrolled": true
   },
   "outputs": [],
   "source": [
    "outfile =codecs.open(data_dir + \"/\" + file_name + \"_bigram.txt\", 'w', 'utf-8')\n",
    "for sentence in list(bigram[chats]):\n",
    "    try:\n",
    "        outfile.write(\" \".join(sentence)+\"\\n\")\n",
    "    except:\n",
    "        pass\n",
    "    \n",
    "outfile =codecs.open(data_dir + \"/\" + file_name + \"_trigram.txt\", 'w', 'utf-8')\n",
    "for sentence in list(trigram[chats]):\n",
    "    try:\n",
    "        outfile.write(\" \".join(sentence)+\"\\n\")\n",
    "    except:\n",
    "        pass\n"
   ]
  },
  {
   "cell_type": "markdown",
   "metadata": {},
   "source": [
    "### Function to tokenize lines"
   ]
  },
  {
   "cell_type": "code",
   "execution_count": 18,
   "metadata": {
    "collapsed": false
   },
   "outputs": [
    {
     "name": "stdout",
     "output_type": "stream",
     "text": [
      "hello keith please help talking lovely lady\n",
      "hello keith please help talking lovely_lady\n",
      "hello_keith please help talking lovely_lady\n"
     ]
    }
   ],
   "source": [
    "def tokenize_line(inputline,phrase_model):\n",
    "    \"\"\"\n",
    "    Function that takes as an input a line of text and \n",
    "    returns as an output the line with phrase algorithm applied \n",
    "    (joining common phrases into a single token)\n",
    "    \n",
    "    Input:\n",
    "    - inputline\n",
    "    - phrase_model: model created by gensim.models.Phrases  \n",
    "    \n",
    "    \"\"\"\n",
    "    inputline_tokenized = list(phrase_model[inputline.split()])\n",
    "    return \" \".join(inputline_tokenized)\n",
    "\n",
    "inputline = u\"hello keith please help talking lovely lady\"\n",
    "print inputline\n",
    "print tokenize_line(inputline,bigram)\n",
    "print tokenize_line(inputline,trigram)"
   ]
  }
 ],
 "metadata": {
  "kernelspec": {
   "display_name": "Python [Root]",
   "language": "python",
   "name": "Python [Root]"
  },
  "language_info": {
   "codemirror_mode": {
    "name": "ipython",
    "version": 2
   },
   "file_extension": ".py",
   "mimetype": "text/x-python",
   "name": "python",
   "nbconvert_exporter": "python",
   "pygments_lexer": "ipython2",
   "version": "2.7.12"
  }
 },
 "nbformat": 4,
 "nbformat_minor": 0
}

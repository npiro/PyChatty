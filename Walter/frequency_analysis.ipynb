{
 "cells": [
  {
   "cell_type": "markdown",
   "metadata": {},
   "source": [
    "#  Frequency analysis of M&S support chats\n",
    "\n",
    "#### To do:\n",
    "- find minimum DF to kill typos and names"
   ]
  },
  {
   "cell_type": "markdown",
   "metadata": {},
   "source": [
    "### Import chats"
   ]
  },
  {
   "cell_type": "code",
   "execution_count": 1,
   "metadata": {
    "collapsed": false
   },
   "outputs": [],
   "source": [
    "input_file_name = '04_doc2vecTrainingDataFiltered'\n",
    "\n",
    "import config_project as cfg\n",
    "input_file_path = cfg.data_dir + \"/\" + input_file_name + \".txt\"\n",
    "\n",
    "import codecs\n",
    "chats = codecs.open(input_file_path,'r','utf-8')"
   ]
  },
  {
   "cell_type": "markdown",
   "metadata": {},
   "source": [
    "### Document frequency analysis"
   ]
  },
  {
   "cell_type": "code",
   "execution_count": 2,
   "metadata": {
    "collapsed": false
   },
   "outputs": [],
   "source": [
    "import frequency_tools\n",
    "document_frequencies = frequency_tools.get_DF_histogram(chats)"
   ]
  },
  {
   "cell_type": "markdown",
   "metadata": {},
   "source": [
    "### Term Frequency - Inverse Document frequency analysis"
   ]
  },
  {
   "cell_type": "code",
   "execution_count": 3,
   "metadata": {
    "collapsed": false
   },
   "outputs": [
    {
     "name": "stdout",
     "output_type": "stream",
     "text": [
      "tfidf_median = 1.4469968129e-05\n"
     ]
    }
   ],
   "source": [
    "# rewind chats file\n",
    "chats.seek(0)\n",
    "\n",
    "from sklearn.feature_extraction.text import TfidfVectorizer\n",
    "tfidf_vectorizer = TfidfVectorizer()\n",
    "\n",
    "#vectorizer = TfidfVectorizer(min_df=0.1)\n",
    "tfidf_matrix = tfidf_vectorizer.fit_transform(chats)\n",
    "\n",
    "tfidf_means = tfidf_matrix.mean(axis=0).transpose()\n",
    "tfidf_words = tfidf_vectorizer.get_feature_names()\n",
    "tfidf_dict  = {}\n",
    "for i, tfidf_mean in enumerate(tfidf_means):\n",
    "    tfidf_dict[tfidf_words[i]] = tfidf_mean\n",
    "    \n",
    "import statistics\n",
    "tfidf_median =statistics.median(tfidf_means).mean()\n",
    "print('tfidf_median = ' + str(tfidf_median))"
   ]
  },
  {
   "cell_type": "code",
   "execution_count": 4,
   "metadata": {
    "collapsed": false
   },
   "outputs": [
    {
     "data": {
      "text/plain": [
       "1.4469968129001394e-05"
      ]
     },
     "execution_count": 4,
     "metadata": {},
     "output_type": "execute_result"
    }
   ],
   "source": [
    "tfidf_median.mean()"
   ]
  },
  {
   "cell_type": "markdown",
   "metadata": {},
   "source": [
    "### Document frequency histogram"
   ]
  },
  {
   "cell_type": "code",
   "execution_count": 5,
   "metadata": {
    "collapsed": false
   },
   "outputs": [
    {
     "data": {
      "text/plain": [
       "<matplotlib.text.Text at 0x7f2bdf37c8d0>"
      ]
     },
     "execution_count": 5,
     "metadata": {},
     "output_type": "execute_result"
    },
    {
     "data": {
      "image/png": "[encoded data removed]",
      "text/plain": [
       "<matplotlib.figure.Figure at 0x7f2bdf3daf90>"
      ]
     },
     "metadata": {},
     "output_type": "display_data"
    }
   ],
   "source": [
    "from matplotlib.pylab import plt\n",
    "%matplotlib inline  \n",
    "plt.hist(document_frequencies.values(),bins=range(1,40))\n",
    "plt.xlabel('Document frequency')\n",
    "plt.ylabel('Number of Tokens')"
   ]
  },
  {
   "cell_type": "markdown",
   "metadata": {},
   "source": [
    "### Term Frequency - Inverse Document frequency histogram"
   ]
  },
  {
   "cell_type": "code",
   "execution_count": 6,
   "metadata": {
    "collapsed": false
   },
   "outputs": [
    {
     "data": {
      "text/plain": [
       "<matplotlib.text.Text at 0x7f2be55e3c10>"
      ]
     },
     "execution_count": 6,
     "metadata": {},
     "output_type": "execute_result"
    },
    {
     "data": {
      "image/png": "[encoded data removed]",
      "text/plain": [
       "<matplotlib.figure.Figure at 0x7f2be6ae2290>"
      ]
     },
     "metadata": {},
     "output_type": "display_data"
    }
   ],
   "source": [
    "from matplotlib.pylab import plt\n",
    "import numpy as np\n",
    "%matplotlib inline  \n",
    "plt.hist(tfidf_means,bins = np.linspace(0.0, 0.001, num=100))\n",
    "plt.xlabel('TF-IDF')\n",
    "plt.ylabel('Number of Tokens')"
   ]
  },
  {
   "cell_type": "markdown",
   "metadata": {},
   "source": [
    "### Check words with a given DF value"
   ]
  },
  {
   "cell_type": "code",
   "execution_count": null,
   "metadata": {
    "collapsed": false
   },
   "outputs": [],
   "source": [
    "df_value = 4\n",
    "tokens = document_frequencies.keys()\n",
    "\n",
    "for i,df in enumerate(document_frequencies.values()):\n",
    "    if df == df_value:\n",
    "        tfidf = tfidf_dict[tokens[i]]\n",
    "        print 'word = ' + tokens[i] + ', DF = '+str(df) + ', TF-IDF = '+str(tfidf)\n",
    "        raw_input()"
   ]
  },
  {
   "cell_type": "code",
   "execution_count": null,
   "metadata": {
    "collapsed": true
   },
   "outputs": [],
   "source": [
    "chats.close()"
   ]
  }
 ],
 "metadata": {
  "kernelspec": {
   "display_name": "Python [Root]",
   "language": "python",
   "name": "Python [Root]"
  },
  "language_info": {
   "codemirror_mode": {
    "name": "ipython",
    "version": 2
   },
   "file_extension": ".py",
   "mimetype": "text/x-python",
   "name": "python",
   "nbconvert_exporter": "python",
   "pygments_lexer": "ipython2",
   "version": "2.7.12"
  }
 },
 "nbformat": 4,
 "nbformat_minor": 0
}
